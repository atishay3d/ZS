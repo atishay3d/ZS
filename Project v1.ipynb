{
 "cells": [
  {
   "cell_type": "code",
   "execution_count": 1,
   "metadata": {},
   "outputs": [],
   "source": [
    "import pandas as pd\n",
    "import numpy as np"
   ]
  },
  {
   "cell_type": "code",
   "execution_count": 3,
   "metadata": {},
   "outputs": [],
   "source": [
    "df_train_data = pd.read_csv('train_data.csv')\n",
    "df_test_data = pd.read_csv('test_data.csv')\n",
    "df_train_labels = pd.read_csv('train_labels.csv')\n",
    "df_fitness_values = pd.read_csv('fitness_values.csv')"
   ]
  },
  {
   "cell_type": "code",
   "execution_count": 4,
   "metadata": {},
   "outputs": [
    {
     "name": "stdout",
     "output_type": "stream",
     "text": [
      "<class 'pandas.core.frame.DataFrame'>\n",
      "RangeIndex: 14446880 entries, 0 to 14446879\n",
      "Data columns (total 6 columns):\n",
      "patient_id         object\n",
      "event_name         object\n",
      "event_time         int64\n",
      "specialty          object\n",
      "plan_type          object\n",
      "patient_payment    float64\n",
      "dtypes: float64(1), int64(1), object(4)\n",
      "memory usage: 661.3+ MB\n"
     ]
    }
   ],
   "source": [
    "df_train_data.info()"
   ]
  },
  {
   "cell_type": "code",
   "execution_count": 5,
   "metadata": {},
   "outputs": [
    {
     "name": "stdout",
     "output_type": "stream",
     "text": [
      "<class 'pandas.core.frame.DataFrame'>\n",
      "RangeIndex: 6256395 entries, 0 to 6256394\n",
      "Data columns (total 6 columns):\n",
      "patient_id         object\n",
      "event_name         object\n",
      "event_time         int64\n",
      "specialty          object\n",
      "plan_type          object\n",
      "patient_payment    float64\n",
      "dtypes: float64(1), int64(1), object(4)\n",
      "memory usage: 286.4+ MB\n"
     ]
    }
   ],
   "source": [
    "df_test_data.info()"
   ]
  },
  {
   "cell_type": "code",
   "execution_count": 6,
   "metadata": {},
   "outputs": [
    {
     "name": "stdout",
     "output_type": "stream",
     "text": [
      "<class 'pandas.core.frame.DataFrame'>\n",
      "RangeIndex: 16683 entries, 0 to 16682\n",
      "Data columns (total 2 columns):\n",
      "patient_id      16683 non-null object\n",
      "outcome_flag    16683 non-null int64\n",
      "dtypes: int64(1), object(1)\n",
      "memory usage: 260.8+ KB\n"
     ]
    }
   ],
   "source": [
    "df_train_labels.info()"
   ]
  },
  {
   "cell_type": "code",
   "execution_count": 7,
   "metadata": {},
   "outputs": [
    {
     "name": "stdout",
     "output_type": "stream",
     "text": [
      "<class 'pandas.core.frame.DataFrame'>\n",
      "RangeIndex: 41525 entries, 0 to 41524\n",
      "Data columns (total 6 columns):\n",
      "feature_name               41525 non-null object\n",
      "avg_1                      41525 non-null float64\n",
      "avg_0                      41525 non-null float64\n",
      "sd_1                       41525 non-null float64\n",
      "sd_0                       41525 non-null float64\n",
      "coefficient_of_variance    41525 non-null float64\n",
      "dtypes: float64(5), object(1)\n",
      "memory usage: 1.9+ MB\n"
     ]
    }
   ],
   "source": [
    "df_fitness_values.info()"
   ]
  },
  {
   "cell_type": "code",
   "execution_count": 16,
   "metadata": {},
   "outputs": [
    {
     "data": {
      "text/plain": [
       "count        14446880\n",
       "unique          16683\n",
       "top       patient_299\n",
       "freq            25526\n",
       "Name: patient_id, dtype: object"
      ]
     },
     "execution_count": 16,
     "metadata": {},
     "output_type": "execute_result"
    }
   ],
   "source": [
    "df_train_data['patient_id'].describe()"
   ]
  },
  {
   "cell_type": "markdown",
   "metadata": {},
   "source": [
    "We have observed that no. of unique patient_id in df_train_data is 16683 which is equivalent to rows in df_train_labels"
   ]
  },
  {
   "cell_type": "code",
   "execution_count": 18,
   "metadata": {},
   "outputs": [],
   "source": [
    "df_train = df_train_data.merge(df_train_labels, on='patient_id',how='inner')"
   ]
  },
  {
   "cell_type": "code",
   "execution_count": 20,
   "metadata": {},
   "outputs": [
    {
     "name": "stdout",
     "output_type": "stream",
     "text": [
      "<class 'pandas.core.frame.DataFrame'>\n",
      "Int64Index: 14446880 entries, 0 to 14446879\n",
      "Data columns (total 7 columns):\n",
      "patient_id         object\n",
      "event_name         object\n",
      "event_time         int64\n",
      "specialty          object\n",
      "plan_type          object\n",
      "patient_payment    float64\n",
      "outcome_flag       int64\n",
      "dtypes: float64(1), int64(2), object(4)\n",
      "memory usage: 881.8+ MB\n"
     ]
    }
   ],
   "source": [
    "df_train.info()"
   ]
  },
  {
   "cell_type": "code",
   "execution_count": 28,
   "metadata": {
    "scrolled": false
   },
   "outputs": [
    {
     "data": {
      "text/html": [
       "<div>\n",
       "<style scoped>\n",
       "    .dataframe tbody tr th:only-of-type {\n",
       "        vertical-align: middle;\n",
       "    }\n",
       "\n",
       "    .dataframe tbody tr th {\n",
       "        vertical-align: top;\n",
       "    }\n",
       "\n",
       "    .dataframe thead th {\n",
       "        text-align: right;\n",
       "    }\n",
       "</style>\n",
       "<table border=\"1\" class=\"dataframe\">\n",
       "  <thead>\n",
       "    <tr style=\"text-align: right;\">\n",
       "      <th></th>\n",
       "      <th>patient_id</th>\n",
       "      <th>event_name</th>\n",
       "      <th>event_time</th>\n",
       "      <th>specialty</th>\n",
       "      <th>plan_type</th>\n",
       "      <th>patient_payment</th>\n",
       "      <th>outcome_flag</th>\n",
       "    </tr>\n",
       "  </thead>\n",
       "  <tbody>\n",
       "    <tr>\n",
       "      <th>0</th>\n",
       "      <td>patient_1</td>\n",
       "      <td>event_1</td>\n",
       "      <td>47</td>\n",
       "      <td>spec_1</td>\n",
       "      <td>plan_1</td>\n",
       "      <td>0.0</td>\n",
       "      <td>0</td>\n",
       "    </tr>\n",
       "    <tr>\n",
       "      <th>1</th>\n",
       "      <td>patient_1</td>\n",
       "      <td>event_1</td>\n",
       "      <td>50</td>\n",
       "      <td>spec_1</td>\n",
       "      <td>plan_1</td>\n",
       "      <td>0.0</td>\n",
       "      <td>0</td>\n",
       "    </tr>\n",
       "    <tr>\n",
       "      <th>2</th>\n",
       "      <td>patient_1</td>\n",
       "      <td>event_1</td>\n",
       "      <td>47</td>\n",
       "      <td>spec_1</td>\n",
       "      <td>plan_1</td>\n",
       "      <td>0.0</td>\n",
       "      <td>0</td>\n",
       "    </tr>\n",
       "    <tr>\n",
       "      <th>3</th>\n",
       "      <td>patient_1</td>\n",
       "      <td>event_37</td>\n",
       "      <td>235</td>\n",
       "      <td>spec_1</td>\n",
       "      <td>plan_1</td>\n",
       "      <td>0.0</td>\n",
       "      <td>0</td>\n",
       "    </tr>\n",
       "    <tr>\n",
       "      <th>4</th>\n",
       "      <td>patient_1</td>\n",
       "      <td>event_1</td>\n",
       "      <td>38</td>\n",
       "      <td>spec_1</td>\n",
       "      <td>plan_1</td>\n",
       "      <td>0.0</td>\n",
       "      <td>0</td>\n",
       "    </tr>\n",
       "    <tr>\n",
       "      <th>5</th>\n",
       "      <td>patient_1</td>\n",
       "      <td>event_43</td>\n",
       "      <td>107</td>\n",
       "      <td>spec_1</td>\n",
       "      <td>plan_1</td>\n",
       "      <td>0.0</td>\n",
       "      <td>0</td>\n",
       "    </tr>\n",
       "  </tbody>\n",
       "</table>\n",
       "</div>"
      ],
      "text/plain": [
       "  patient_id event_name  event_time specialty plan_type  patient_payment  \\\n",
       "0  patient_1    event_1          47    spec_1    plan_1              0.0   \n",
       "1  patient_1    event_1          50    spec_1    plan_1              0.0   \n",
       "2  patient_1    event_1          47    spec_1    plan_1              0.0   \n",
       "3  patient_1   event_37         235    spec_1    plan_1              0.0   \n",
       "4  patient_1    event_1          38    spec_1    plan_1              0.0   \n",
       "5  patient_1   event_43         107    spec_1    plan_1              0.0   \n",
       "\n",
       "   outcome_flag  \n",
       "0             0  \n",
       "1             0  \n",
       "2             0  \n",
       "3             0  \n",
       "4             0  \n",
       "5             0  "
      ]
     },
     "execution_count": 28,
     "metadata": {},
     "output_type": "execute_result"
    }
   ],
   "source": [
    "df_train.head(6)"
   ]
  },
  {
   "cell_type": "markdown",
   "metadata": {},
   "source": [
    "<img src= 'ZS_Fitness_Value.png'>"
   ]
  },
  {
   "cell_type": "code",
   "execution_count": 25,
   "metadata": {},
   "outputs": [
    {
     "data": {
      "text/html": [
       "<div>\n",
       "<style scoped>\n",
       "    .dataframe tbody tr th:only-of-type {\n",
       "        vertical-align: middle;\n",
       "    }\n",
       "\n",
       "    .dataframe tbody tr th {\n",
       "        vertical-align: top;\n",
       "    }\n",
       "\n",
       "    .dataframe thead th {\n",
       "        text-align: right;\n",
       "    }\n",
       "</style>\n",
       "<table border=\"1\" class=\"dataframe\">\n",
       "  <thead>\n",
       "    <tr style=\"text-align: right;\">\n",
       "      <th></th>\n",
       "      <th>feature_name</th>\n",
       "      <th>avg_1</th>\n",
       "      <th>avg_0</th>\n",
       "      <th>sd_1</th>\n",
       "      <th>sd_0</th>\n",
       "      <th>coefficient_of_variance</th>\n",
       "    </tr>\n",
       "  </thead>\n",
       "  <tbody>\n",
       "    <tr>\n",
       "      <th>0</th>\n",
       "      <td>recency__event_name__event_1</td>\n",
       "      <td>415.562260</td>\n",
       "      <td>402.517278</td>\n",
       "      <td>315.016268</td>\n",
       "      <td>307.536555</td>\n",
       "      <td>1.007895</td>\n",
       "    </tr>\n",
       "    <tr>\n",
       "      <th>1</th>\n",
       "      <td>recency__event_name__event_2</td>\n",
       "      <td>334.024691</td>\n",
       "      <td>308.916367</td>\n",
       "      <td>312.396980</td>\n",
       "      <td>298.470307</td>\n",
       "      <td>1.033075</td>\n",
       "    </tr>\n",
       "    <tr>\n",
       "      <th>2</th>\n",
       "      <td>recency__event_name__event_3</td>\n",
       "      <td>430.727273</td>\n",
       "      <td>224.280543</td>\n",
       "      <td>277.010141</td>\n",
       "      <td>274.041707</td>\n",
       "      <td>1.899904</td>\n",
       "    </tr>\n",
       "    <tr>\n",
       "      <th>3</th>\n",
       "      <td>recency__event_name__event_4</td>\n",
       "      <td>334.842105</td>\n",
       "      <td>326.087912</td>\n",
       "      <td>223.508206</td>\n",
       "      <td>305.235029</td>\n",
       "      <td>1.402317</td>\n",
       "    </tr>\n",
       "    <tr>\n",
       "      <th>4</th>\n",
       "      <td>recency__event_name__event_5</td>\n",
       "      <td>478.988636</td>\n",
       "      <td>455.197872</td>\n",
       "      <td>306.338123</td>\n",
       "      <td>315.533077</td>\n",
       "      <td>1.083849</td>\n",
       "    </tr>\n",
       "    <tr>\n",
       "      <th>5</th>\n",
       "      <td>recency__event_name__event_6</td>\n",
       "      <td>475.673469</td>\n",
       "      <td>517.639535</td>\n",
       "      <td>313.416881</td>\n",
       "      <td>300.972687</td>\n",
       "      <td>0.882442</td>\n",
       "    </tr>\n",
       "    <tr>\n",
       "      <th>6</th>\n",
       "      <td>recency__event_name__event_7</td>\n",
       "      <td>401.150515</td>\n",
       "      <td>393.824806</td>\n",
       "      <td>308.351280</td>\n",
       "      <td>305.504411</td>\n",
       "      <td>1.009197</td>\n",
       "    </tr>\n",
       "    <tr>\n",
       "      <th>7</th>\n",
       "      <td>recency__event_name__event_8</td>\n",
       "      <td>480.220472</td>\n",
       "      <td>477.448143</td>\n",
       "      <td>310.856429</td>\n",
       "      <td>318.637462</td>\n",
       "      <td>1.030983</td>\n",
       "    </tr>\n",
       "    <tr>\n",
       "      <th>8</th>\n",
       "      <td>recency__event_name__event_9</td>\n",
       "      <td>514.666667</td>\n",
       "      <td>247.758064</td>\n",
       "      <td>425.351463</td>\n",
       "      <td>302.568333</td>\n",
       "      <td>1.477658</td>\n",
       "    </tr>\n",
       "    <tr>\n",
       "      <th>9</th>\n",
       "      <td>recency__event_name__event_10</td>\n",
       "      <td>414.602778</td>\n",
       "      <td>435.794798</td>\n",
       "      <td>313.626875</td>\n",
       "      <td>324.751066</td>\n",
       "      <td>0.985116</td>\n",
       "    </tr>\n",
       "  </tbody>\n",
       "</table>\n",
       "</div>"
      ],
      "text/plain": [
       "                    feature_name       avg_1       avg_0        sd_1  \\\n",
       "0   recency__event_name__event_1  415.562260  402.517278  315.016268   \n",
       "1   recency__event_name__event_2  334.024691  308.916367  312.396980   \n",
       "2   recency__event_name__event_3  430.727273  224.280543  277.010141   \n",
       "3   recency__event_name__event_4  334.842105  326.087912  223.508206   \n",
       "4   recency__event_name__event_5  478.988636  455.197872  306.338123   \n",
       "5   recency__event_name__event_6  475.673469  517.639535  313.416881   \n",
       "6   recency__event_name__event_7  401.150515  393.824806  308.351280   \n",
       "7   recency__event_name__event_8  480.220472  477.448143  310.856429   \n",
       "8   recency__event_name__event_9  514.666667  247.758064  425.351463   \n",
       "9  recency__event_name__event_10  414.602778  435.794798  313.626875   \n",
       "\n",
       "         sd_0  coefficient_of_variance  \n",
       "0  307.536555                 1.007895  \n",
       "1  298.470307                 1.033075  \n",
       "2  274.041707                 1.899904  \n",
       "3  305.235029                 1.402317  \n",
       "4  315.533077                 1.083849  \n",
       "5  300.972687                 0.882442  \n",
       "6  305.504411                 1.009197  \n",
       "7  318.637462                 1.030983  \n",
       "8  302.568333                 1.477658  \n",
       "9  324.751066                 0.985116  "
      ]
     },
     "execution_count": 25,
     "metadata": {},
     "output_type": "execute_result"
    }
   ],
   "source": [
    "df_fitness_values.head(10)"
   ]
  }
 ],
 "metadata": {
  "kernelspec": {
   "display_name": "Python 3",
   "language": "python",
   "name": "python3"
  },
  "language_info": {
   "codemirror_mode": {
    "name": "ipython",
    "version": 3
   },
   "file_extension": ".py",
   "mimetype": "text/x-python",
   "name": "python",
   "nbconvert_exporter": "python",
   "pygments_lexer": "ipython3",
   "version": "3.7.3"
  }
 },
 "nbformat": 4,
 "nbformat_minor": 2
}
